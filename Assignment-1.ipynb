{
 "cells": [
  {
   "cell_type": "code",
   "execution_count": 1,
   "id": "efc382bb",
   "metadata": {},
   "outputs": [
    {
     "data": {
      "text/plain": [
       "2401"
      ]
     },
     "execution_count": 1,
     "metadata": {},
     "output_type": "execute_result"
    }
   ],
   "source": [
    "#1. 7 power 4\n",
    "a = 7**4\n",
    "a"
   ]
  },
  {
   "cell_type": "code",
   "execution_count": 2,
   "id": "225eb642",
   "metadata": {},
   "outputs": [
    {
     "data": {
      "text/plain": [
       "['hi', 'there', 'sam']"
      ]
     },
     "execution_count": 2,
     "metadata": {},
     "output_type": "execute_result"
    }
   ],
   "source": [
    "#2. split the string into a list\n",
    "s = \"hi there sam\"\n",
    "l = s.split(' ')\n",
    "l"
   ]
  },
  {
   "cell_type": "code",
   "execution_count": 3,
   "id": "319f17f1",
   "metadata": {},
   "outputs": [
    {
     "name": "stdout",
     "output_type": "stream",
     "text": [
      "the diameter of earth is 12742 kilometers\n"
     ]
    }
   ],
   "source": [
    "#3. using format\n",
    "planet = 'earth'\n",
    "d = 12742\n",
    "print(\"the diameter of {0} is {1} kilometers\".format(planet,d))"
   ]
  },
  {
   "cell_type": "code",
   "execution_count": 4,
   "id": "8888fc2e",
   "metadata": {},
   "outputs": [
    {
     "data": {
      "text/plain": [
       "['hello']"
      ]
     },
     "execution_count": 4,
     "metadata": {},
     "output_type": "execute_result"
    }
   ],
   "source": [
    "#4. Given this nested list, use indexing to grab the word \"hello\"\n",
    "l = [1,2,[3,4],[5,[100,200,['hello']],23,11],1,7]\n",
    "l[3][1][2]"
   ]
  },
  {
   "cell_type": "code",
   "execution_count": 5,
   "id": "b40ed9a4",
   "metadata": {},
   "outputs": [
    {
     "data": {
      "text/plain": [
       "'hello'"
      ]
     },
     "execution_count": 5,
     "metadata": {},
     "output_type": "execute_result"
    }
   ],
   "source": [
    "#5. Given this nested dictionary grab the word \"hello\".\n",
    "d = {'k1':[1,2,3,{'tricky':['oh','man','inception',{'target':[1,2,3,'hello']}]}]}\n",
    "c=d['k1'][3]\n",
    "e=c['tricky'][3]\n",
    "e['target'][3]"
   ]
  },
  {
   "cell_type": "code",
   "execution_count": 6,
   "id": "d69f59e4",
   "metadata": {},
   "outputs": [],
   "source": [
    "#6. difference b/w list and tuple\n",
    "Lists are mutable whereas the tuples are immutable.\n",
    "Tuples are memory efficient and lists are not."
   ]
  },
  {
   "cell_type": "code",
   "execution_count": 7,
   "id": "1f284f84",
   "metadata": {},
   "outputs": [
    {
     "data": {
      "text/plain": [
       "'domain.com'"
      ]
     },
     "execution_count": 7,
     "metadata": {},
     "output_type": "execute_result"
    }
   ],
   "source": [
    "#7. Create a function that grabs the email website domain from a string in the form : user@d\n",
    "a = 'user@domain.com'\n",
    "b = a.find('@')\n",
    "c = a[b+1:]\n",
    "c"
   ]
  },
  {
   "cell_type": "code",
   "execution_count": 9,
   "id": "d7d94773",
   "metadata": {},
   "outputs": [
    {
     "data": {
      "text/plain": [
       "True"
      ]
     },
     "execution_count": 9,
     "metadata": {},
     "output_type": "execute_result"
    }
   ],
   "source": [
    "#8. Create a basic function that returns True if the word 'dog' is contained in the input s\n",
    "def func(s):\n",
    "    if sub in s :\n",
    "        return True\n",
    "    else:\n",
    "        return False\n",
    "s = 'i love dogs'\n",
    "sub = 'dog'\n",
    "func(s)"
   ]
  },
  {
   "cell_type": "code",
   "execution_count": 12,
   "id": "f8b2191e",
   "metadata": {},
   "outputs": [
    {
     "name": "stdout",
     "output_type": "stream",
     "text": [
      "['dogs', 'cat', 'great']\n",
      "['dogs', 'cat', 'great']\n"
     ]
    }
   ],
   "source": [
    "#9 \n",
    "seq=['soup','dogs','salad','cat','great']\n",
    "l=[]\n",
    "m=[]\n",
    "for chars in seq:\n",
    "    if(chars[0]!='s'):\n",
    "        l.append(chars)\n",
    "        \n",
    "for i in range(len(seq)):\n",
    "    if(seq[i][0]!='s'):\n",
    "        m.append(seq[i])\n",
    "        \n",
    "        \n",
    "            \n",
    "print(m)\n",
    "print(l)"
   ]
  },
  {
   "cell_type": "code",
   "execution_count": 15,
   "id": "dfff1633",
   "metadata": {},
   "outputs": [
    {
     "name": "stdout",
     "output_type": "stream",
     "text": [
      "Small Ticket\n"
     ]
    }
   ],
   "source": [
    "#10.\n",
    "def speed(n,l):\n",
    "    if(l):\n",
    "        if(n-5<=60):\n",
    "            return \"No Ticket\"\n",
    "        elif(61<n-5<80):\n",
    "            return \"Small Ticket\"\n",
    "        else:\n",
    "            return \"Big Ticket\"\n",
    "    else:\n",
    "        if n<=60:\n",
    "            return \"No Ticket\"\n",
    "        elif n>=61 and n<=80:\n",
    "            return \"Small Ticket\"\n",
    "        elif n>=81:\n",
    "            return \"Big Ticket\"\n",
    "\n",
    "if __name__ == \"__main__\":\n",
    "    print(speed(83,True))"
   ]
  },
  {
   "cell_type": "code",
   "execution_count": null,
   "id": "77843470",
   "metadata": {},
   "outputs": [],
   "source": []
  }
 ],
 "metadata": {
  "kernelspec": {
   "display_name": "Python 3",
   "language": "python",
   "name": "python3"
  },
  "language_info": {
   "codemirror_mode": {
    "name": "ipython",
    "version": 3
   },
   "file_extension": ".py",
   "mimetype": "text/x-python",
   "name": "python",
   "nbconvert_exporter": "python",
   "pygments_lexer": "ipython3",
   "version": "3.8.8"
  }
 },
 "nbformat": 4,
 "nbformat_minor": 5
}
